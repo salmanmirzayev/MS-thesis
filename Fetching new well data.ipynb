{
 "cells": [
  {
   "cell_type": "code",
   "execution_count": 162,
   "id": "444f7c8a-809c-4798-9356-7c0b392dbf66",
   "metadata": {
    "tags": []
   },
   "outputs": [],
   "source": [
    "import numpy as np\n",
    "import pandas as pd\n",
    "import matplotlib.pyplot as plt\n",
    "import seaborn as sns"
   ]
  },
  {
   "cell_type": "code",
   "execution_count": 163,
   "id": "953ed20e-06dc-419f-975d-756941c93b8d",
   "metadata": {
    "tags": []
   },
   "outputs": [],
   "source": [
    "df = pd.read_csv('AASG_Thermed_AllTempsThicksConds.csv', low_memory=False)"
   ]
  },
  {
   "cell_type": "code",
   "execution_count": 164,
   "id": "6e9b4a24-1c23-4a89-b133-f785a4027416",
   "metadata": {
    "tags": []
   },
   "outputs": [],
   "source": [
    "def remove_outliers_iqr(data, column):\n",
    "    # Calculate the first and third quartiles\n",
    "    Q1 = data[column].quantile(0.25)\n",
    "    Q3 = data[column].quantile(0.75)\n",
    "    \n",
    "    # Calculating the IQR (Interquartile Range)\n",
    "    IQR = Q3 - Q1\n",
    "    \n",
    "    # Defining the lower and upper bounds to identify outliers\n",
    "    lower_bound = Q1 - 1.5 * IQR\n",
    "    upper_bound = Q3 + 1.5 * IQR\n",
    "    \n",
    "    # Creating masks for outliers and non-outliers\n",
    "    outliers_mask = (data[column] < lower_bound) | (data[column] > upper_bound)\n",
    "    # Creating a mask for non-outliers\n",
    "    non_outliers_mask = (data[column] >= lower_bound) & (data[column] <= upper_bound)\n",
    "    \n",
    "    return data[non_outliers_mask].copy(), outliers_mask"
   ]
  },
  {
   "cell_type": "code",
   "execution_count": 165,
   "id": "38e0ede2-ac31-4438-b842-d501d4c262a4",
   "metadata": {
    "tags": []
   },
   "outputs": [],
   "source": [
    "df = remove_outliers_iqr(df, 'HeatFlow')[0]"
   ]
  },
  {
   "cell_type": "code",
   "execution_count": 166,
   "id": "e1b91dfa-a80c-41ed-82df-004ce968d9b8",
   "metadata": {
    "tags": []
   },
   "outputs": [],
   "source": [
    "df = df.reset_index(drop=True)"
   ]
  },
  {
   "cell_type": "code",
   "execution_count": 167,
   "id": "04e6603d-6ff9-43b5-babb-c604844f69ab",
   "metadata": {
    "tags": []
   },
   "outputs": [],
   "source": [
    "\n",
    "# Forming X and Y\n",
    "X = np.transpose(np.array([df.LatDegree,\n",
    "                                df.LongDegree,\n",
    "                                df.MeasureDepth_m,\n",
    "                                df.SurfTemp]))\n",
    "Y = df.CorrBHT.values\n",
    "# Adding Geological Layer information to X\n",
    "layers = df.iloc[:,52:101].values\n",
    "conds = df.iloc[:,101:150].values\n",
    "mult = np.multiply(layers,conds)\n",
    "np.nan_to_num(mult, 0)\n",
    "X = np.concatenate((X, mult),axis=1)"
   ]
  },
  {
   "cell_type": "code",
   "execution_count": 168,
   "id": "6353db21-4681-4119-ba9c-d088f3d31f6e",
   "metadata": {
    "tags": []
   },
   "outputs": [
    {
     "data": {
      "text/html": [
       "<div>\n",
       "<style scoped>\n",
       "    .dataframe tbody tr th:only-of-type {\n",
       "        vertical-align: middle;\n",
       "    }\n",
       "\n",
       "    .dataframe tbody tr th {\n",
       "        vertical-align: top;\n",
       "    }\n",
       "\n",
       "    .dataframe thead th {\n",
       "        text-align: right;\n",
       "    }\n",
       "</style>\n",
       "<table border=\"1\" class=\"dataframe\">\n",
       "  <thead>\n",
       "    <tr style=\"text-align: right;\">\n",
       "      <th></th>\n",
       "      <th>id</th>\n",
       "      <th>depth</th>\n",
       "      <th>temp</th>\n",
       "      <th>lat</th>\n",
       "      <th>lon</th>\n",
       "      <th>corrtemp</th>\n",
       "    </tr>\n",
       "  </thead>\n",
       "  <tbody>\n",
       "    <tr>\n",
       "      <th>0</th>\n",
       "      <td>4704701120</td>\n",
       "      <td>1175.3088</td>\n",
       "      <td>23.888889</td>\n",
       "      <td>37.478631</td>\n",
       "      <td>-81.862642</td>\n",
       "      <td>29.561902</td>\n",
       "    </tr>\n",
       "    <tr>\n",
       "      <th>1</th>\n",
       "      <td>4705900811</td>\n",
       "      <td>1144.6002</td>\n",
       "      <td>41.566667</td>\n",
       "      <td>37.572413</td>\n",
       "      <td>-81.844652</td>\n",
       "      <td>47.039460</td>\n",
       "    </tr>\n",
       "    <tr>\n",
       "      <th>2</th>\n",
       "      <td>4708509707</td>\n",
       "      <td>1127.3028</td>\n",
       "      <td>24.116667</td>\n",
       "      <td>39.228950</td>\n",
       "      <td>-81.061086</td>\n",
       "      <td>29.476681</td>\n",
       "    </tr>\n",
       "    <tr>\n",
       "      <th>3</th>\n",
       "      <td>4705900805</td>\n",
       "      <td>1030.6812</td>\n",
       "      <td>34.088889</td>\n",
       "      <td>37.904429</td>\n",
       "      <td>-82.169272</td>\n",
       "      <td>38.818930</td>\n",
       "    </tr>\n",
       "    <tr>\n",
       "      <th>4</th>\n",
       "      <td>4708300103</td>\n",
       "      <td>2684.2212</td>\n",
       "      <td>91.277778</td>\n",
       "      <td>38.707282</td>\n",
       "      <td>-79.969042</td>\n",
       "      <td>106.788900</td>\n",
       "    </tr>\n",
       "  </tbody>\n",
       "</table>\n",
       "</div>"
      ],
      "text/plain": [
       "           id      depth       temp        lat        lon    corrtemp\n",
       "0  4704701120  1175.3088  23.888889  37.478631 -81.862642   29.561902\n",
       "1  4705900811  1144.6002  41.566667  37.572413 -81.844652   47.039460\n",
       "2  4708509707  1127.3028  24.116667  39.228950 -81.061086   29.476681\n",
       "3  4705900805  1030.6812  34.088889  37.904429 -82.169272   38.818930\n",
       "4  4708300103  2684.2212  91.277778  38.707282 -79.969042  106.788900"
      ]
     },
     "execution_count": 168,
     "metadata": {},
     "output_type": "execute_result"
    }
   ],
   "source": [
    "df2 = pd.read_csv('clean_new_well_data_fixed.csv')\n",
    "num_sample=10000\n",
    "sampled_df2 = df2.sample(num_sample)\n",
    "sampled_df2.reset_index(inplace=True,drop=True)\n",
    "sampled_df2.head()"
   ]
  },
  {
   "cell_type": "code",
   "execution_count": 169,
   "id": "1fc019e5-9821-4a40-b832-11820cf68734",
   "metadata": {
    "tags": []
   },
   "outputs": [],
   "source": [
    "# Interpolating Geological Layer information for X\n",
    "lat_to_interpolate = sampled_df2.lat\n",
    "lon_to_interpolate = sampled_df2.lon\n",
    "layers = df.iloc[:,52:101].values\n",
    "conds = df.iloc[:,101:150].values\n",
    "mult = np.multiply(layers,conds)\n",
    "np.nan_to_num(mult, 0)\n",
    "\n",
    "f = open(\"optim_result.out\", \"r\")\n",
    "lines = f.readlines()\n",
    "\n",
    "optimal_neigh = []\n",
    "optimal_width = []\n",
    "for line in lines:\n",
    "    optimal_neigh.append(line.split(',')[0][0])\n",
    "    optimal_width.append(line.split(',')[1])\n",
    "optimal_neigh = np.array(optimal_neigh).astype('int')\n",
    "optimal_width = np.array(optimal_width).astype('float')\n",
    "\n",
    "# Predicting 49 layers information for each sampled_df2 lat and lon\n",
    "from sklearn.neighbors import KNeighborsRegressor\n",
    "predicted_mults = []\n",
    "for i in range(0,49):\n",
    "    def gaussian_kernel(distances):\n",
    "                kernel_width = optimal_width[i]\n",
    "                weights = np.exp(-(distances**2)/kernel_width)\n",
    "                return weights\n",
    "    knn = KNeighborsRegressor(n_neighbors=optimal_neigh[i],weights=gaussian_kernel)\n",
    "    #knn = KNeighborsRegressor(n_neighbors=1,weights=gaussian_kernel)\n",
    "    knn.fit(np.transpose(np.array([df.LatDegree, df.LongDegree])), mult[:,i])\n",
    "    y_pred = knn.predict(np.transpose(np.array([sampled_df2.lat, sampled_df2.lon])))\n",
    "    predicted_mults.append(y_pred)\n",
    "    \n",
    "predicted_mults = np.transpose(np.array(predicted_mults))\n",
    "\n",
    "# Predicting T_SURF\n",
    "def gaussian_kernel(distances):\n",
    "            kernel_width = 2.598\n",
    "            weights = np.exp(-(distances**2)/kernel_width)\n",
    "            return weights\n",
    "knn = KNeighborsRegressor(n_neighbors=1,weights=gaussian_kernel)\n",
    "knn.fit(np.transpose(np.array([df.LatDegree, df.LongDegree])), df.SurfTemp)\n",
    "predicted_tsurf = knn.predict(np.transpose(np.array([sampled_df2.lat, sampled_df2.lon])))"
   ]
  },
  {
   "cell_type": "code",
   "execution_count": 170,
   "id": "57598610-2299-440e-8bf2-05571126a5d1",
   "metadata": {
    "tags": []
   },
   "outputs": [],
   "source": [
    "# Forming X and Y\n",
    "new_X = np.transpose(np.array([sampled_df2.lat,\n",
    "                                sampled_df2.lon,\n",
    "                                sampled_df2.depth,\n",
    "                                predicted_tsurf]))\n",
    "new_X = np.concatenate((new_X, predicted_mults),axis=1)\n",
    "new_Y = sampled_df2.corrtemp.values"
   ]
  },
  {
   "cell_type": "code",
   "execution_count": 171,
   "id": "ad17f630-f8ec-486b-8907-f688b4b6c28f",
   "metadata": {
    "tags": []
   },
   "outputs": [],
   "source": [
    "import sklearn.metrics as m"
   ]
  },
  {
   "cell_type": "code",
   "execution_count": 172,
   "id": "e460fac9-f2f3-4632-94b4-ffd80565ad71",
   "metadata": {
    "tags": []
   },
   "outputs": [],
   "source": [
    "def Rftest():\n",
    "    model = RandomForestRegressor(max_depth=10, n_estimators=50)\n",
    "    model.fit(X, Y)\n",
    "    y_pred = model.predict(new_X)\n",
    "    y_test = new_Y\n",
    "    std = (np.nanstd(abs(y_test-y_pred)))\n",
    "    return m.mean_absolute_error(y_test, y_pred), m.mean_squared_error(y_test, y_pred), std"
   ]
  },
  {
   "cell_type": "code",
   "execution_count": 173,
   "id": "94663ed7-a4c0-4c0b-9d1d-46454905c39f",
   "metadata": {
    "tags": []
   },
   "outputs": [
    {
     "name": "stdout",
     "output_type": "stream",
     "text": [
      "7.595364895715875 91.99430014470853 5.8570241800453156\n"
     ]
    }
   ],
   "source": [
    "mae, mse, std = Rftest()\n",
    "print(mae, mse, std) "
   ]
  },
  {
   "cell_type": "code",
   "execution_count": null,
   "id": "112f7118-1449-4556-90af-f6d3f8105889",
   "metadata": {},
   "outputs": [],
   "source": []
  }
 ],
 "metadata": {
  "kernelspec": {
   "display_name": "Python 3 (ipykernel)",
   "language": "python",
   "name": "python3"
  },
  "language_info": {
   "codemirror_mode": {
    "name": "ipython",
    "version": 3
   },
   "file_extension": ".py",
   "mimetype": "text/x-python",
   "name": "python",
   "nbconvert_exporter": "python",
   "pygments_lexer": "ipython3",
   "version": "3.11.5"
  }
 },
 "nbformat": 4,
 "nbformat_minor": 5
}
