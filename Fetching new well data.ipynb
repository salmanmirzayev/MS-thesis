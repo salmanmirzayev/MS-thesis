{
 "cells": [
  {
   "cell_type": "code",
   "execution_count": 1,
   "id": "444f7c8a-809c-4798-9356-7c0b392dbf66",
   "metadata": {
    "tags": []
   },
   "outputs": [],
   "source": [
    "import numpy as np\n",
    "import pandas as pd\n",
    "import matplotlib.pyplot as plt\n",
    "import seaborn as sns"
   ]
  },
  {
   "cell_type": "code",
   "execution_count": 2,
   "id": "953ed20e-06dc-419f-975d-756941c93b8d",
   "metadata": {
    "tags": []
   },
   "outputs": [],
   "source": [
    "df = pd.read_csv('AASG_Thermed_AllTempsThicksConds.csv', low_memory=False)"
   ]
  },
  {
   "cell_type": "code",
   "execution_count": 3,
   "id": "6e9b4a24-1c23-4a89-b133-f785a4027416",
   "metadata": {
    "tags": []
   },
   "outputs": [],
   "source": [
    "def remove_outliers_iqr(data, column):\n",
    "    # Calculate the first and third quartiles\n",
    "    Q1 = data[column].quantile(0.25)\n",
    "    Q3 = data[column].quantile(0.75)\n",
    "    \n",
    "    # Calculating the IQR (Interquartile Range)\n",
    "    IQR = Q3 - Q1\n",
    "    \n",
    "    # Defining the lower and upper bounds to identify outliers\n",
    "    lower_bound = Q1 - 1.5 * IQR\n",
    "    upper_bound = Q3 + 1.5 * IQR\n",
    "    \n",
    "    # Creating masks for outliers and non-outliers\n",
    "    outliers_mask = (data[column] < lower_bound) | (data[column] > upper_bound)\n",
    "    # Creating a mask for non-outliers\n",
    "    non_outliers_mask = (data[column] >= lower_bound) & (data[column] <= upper_bound)\n",
    "    \n",
    "    return data[non_outliers_mask].copy(), outliers_mask"
   ]
  },
  {
   "cell_type": "code",
   "execution_count": 4,
   "id": "38e0ede2-ac31-4438-b842-d501d4c262a4",
   "metadata": {
    "tags": []
   },
   "outputs": [],
   "source": [
    "df = remove_outliers_iqr(df, 'HeatFlow')[0]"
   ]
  },
  {
   "cell_type": "code",
   "execution_count": 5,
   "id": "e1b91dfa-a80c-41ed-82df-004ce968d9b8",
   "metadata": {
    "tags": []
   },
   "outputs": [],
   "source": [
    "df = df.reset_index(drop=True)"
   ]
  },
  {
   "cell_type": "code",
   "execution_count": 6,
   "id": "04e6603d-6ff9-43b5-babb-c604844f69ab",
   "metadata": {
    "tags": []
   },
   "outputs": [],
   "source": [
    "# Forming X and Y\n",
    "X = np.transpose(np.array([df.LatDegree,\n",
    "                                df.LongDegree,\n",
    "                                df.MeasureDepth_m,\n",
    "                                df.SurfTemp]))\n",
    "Y = df.CorrBHT.values\n",
    "# Adding Geological Layer information to X\n",
    "layers = df.iloc[:,52:101].values\n",
    "conds = df.iloc[:,101:150].values\n",
    "mult = np.multiply(layers,conds)\n",
    "np.nan_to_num(mult, 0)\n",
    "X = np.concatenate((X, mult),axis=1)"
   ]
  },
  {
   "cell_type": "code",
   "execution_count": 7,
   "id": "6353db21-4681-4119-ba9c-d088f3d31f6e",
   "metadata": {
    "tags": []
   },
   "outputs": [
    {
     "data": {
      "text/html": [
       "<div>\n",
       "<style scoped>\n",
       "    .dataframe tbody tr th:only-of-type {\n",
       "        vertical-align: middle;\n",
       "    }\n",
       "\n",
       "    .dataframe tbody tr th {\n",
       "        vertical-align: top;\n",
       "    }\n",
       "\n",
       "    .dataframe thead th {\n",
       "        text-align: right;\n",
       "    }\n",
       "</style>\n",
       "<table border=\"1\" class=\"dataframe\">\n",
       "  <thead>\n",
       "    <tr style=\"text-align: right;\">\n",
       "      <th></th>\n",
       "      <th>id</th>\n",
       "      <th>depth</th>\n",
       "      <th>temp</th>\n",
       "      <th>lat</th>\n",
       "      <th>lon</th>\n",
       "      <th>corrtemp</th>\n",
       "    </tr>\n",
       "  </thead>\n",
       "  <tbody>\n",
       "    <tr>\n",
       "      <th>0</th>\n",
       "      <td>4705300071</td>\n",
       "      <td>1221.1050</td>\n",
       "      <td>39.500000</td>\n",
       "      <td>38.535339</td>\n",
       "      <td>-82.065496</td>\n",
       "      <td>45.471605</td>\n",
       "    </tr>\n",
       "    <tr>\n",
       "      <th>1</th>\n",
       "      <td>4702105522</td>\n",
       "      <td>914.0952</td>\n",
       "      <td>26.727778</td>\n",
       "      <td>38.931402</td>\n",
       "      <td>-80.928307</td>\n",
       "      <td>30.697678</td>\n",
       "    </tr>\n",
       "    <tr>\n",
       "      <th>2</th>\n",
       "      <td>4704500496</td>\n",
       "      <td>1453.2864</td>\n",
       "      <td>29.937389</td>\n",
       "      <td>37.724143</td>\n",
       "      <td>-81.860383</td>\n",
       "      <td>37.422816</td>\n",
       "    </tr>\n",
       "    <tr>\n",
       "      <th>3</th>\n",
       "      <td>4710300645</td>\n",
       "      <td>1553.4894</td>\n",
       "      <td>43.600000</td>\n",
       "      <td>39.678222</td>\n",
       "      <td>-80.823766</td>\n",
       "      <td>51.738751</td>\n",
       "    </tr>\n",
       "    <tr>\n",
       "      <th>4</th>\n",
       "      <td>4704500496</td>\n",
       "      <td>1516.0752</td>\n",
       "      <td>31.854500</td>\n",
       "      <td>37.724143</td>\n",
       "      <td>-81.860383</td>\n",
       "      <td>39.749310</td>\n",
       "    </tr>\n",
       "  </tbody>\n",
       "</table>\n",
       "</div>"
      ],
      "text/plain": [
       "           id      depth       temp        lat        lon   corrtemp\n",
       "0  4705300071  1221.1050  39.500000  38.535339 -82.065496  45.471605\n",
       "1  4702105522   914.0952  26.727778  38.931402 -80.928307  30.697678\n",
       "2  4704500496  1453.2864  29.937389  37.724143 -81.860383  37.422816\n",
       "3  4710300645  1553.4894  43.600000  39.678222 -80.823766  51.738751\n",
       "4  4704500496  1516.0752  31.854500  37.724143 -81.860383  39.749310"
      ]
     },
     "execution_count": 7,
     "metadata": {},
     "output_type": "execute_result"
    }
   ],
   "source": [
    "df2 = pd.read_csv('clean_new_well_data_fixed.csv')\n",
    "num_sample=10000\n",
    "sampled_df2 = df2.sample(num_sample)\n",
    "sampled_df2.reset_index(inplace=True,drop=True)\n",
    "sampled_df2.head()"
   ]
  },
  {
   "cell_type": "code",
   "execution_count": 8,
   "id": "1fc019e5-9821-4a40-b832-11820cf68734",
   "metadata": {
    "tags": []
   },
   "outputs": [],
   "source": [
    "# Interpolating Geological Layer information for X\n",
    "lat_to_interpolate = sampled_df2.lat'\n",
    "lon_to_interpolate = sampled_df2.lon\n",
    "layers = df.iloc[:,52:101].values\n",
    "conds = df.iloc[:,101:150].values\n",
    "mult = np.multiply(layers,conds)\n",
    "np.nan_to_num(mult, 0)\n",
    "\n",
    "f = open(\"optim_result.out\", \"r\")\n",
    "lines = f.readlines()\n",
    "\n",
    "optimal_neigh = []\n",
    "optimal_width = []\n",
    "for line in lines:\n",
    "    optimal_neigh.append(line.split(',')[0][0])\n",
    "    optimal_width.append(line.split(',')[1])\n",
    "optimal_neigh = np.array(optimal_neigh).astype('int')\n",
    "optimal_width = np.array(optimal_width).astype('float')\n",
    "\n",
    "# Predicting 49 layers information for each sampled_df2 lat and lon\n",
    "from sklearn.neighbors import KNeighborsRegressor\n",
    "predicted_mults = []\n",
    "for i in range(0,49):\n",
    "    def gaussian_kernel(distances):\n",
    "                kernel_width = optimal_width[i]\n",
    "                weights = np.exp(-(distances**2)/kernel_width)\n",
    "                return weights\n",
    "    knn = KNeighborsRegressor(n_neighbors=optimal_neigh[i],weights=gaussian_kernel)\n",
    "    #knn = KNeighborsRegressor(n_neighbors=1,weights=gaussian_kernel)\n",
    "    knn.fit(np.transpose(np.array([df.LatDegree, df.LongDegree])), mult[:,i])\n",
    "    y_pred = knn.predict(np.transpose(np.array([sampled_df2.lat, sampled_df2.lon])))\n",
    "    predicted_mults.append(y_pred)\n",
    "    \n",
    "predicted_mults = np.transpose(np.array(predicted_mults))\n",
    "\n",
    "# Predicting T_SURF\n",
    "def gaussian_kernel(distances):\n",
    "            kernel_width = 2.598\n",
    "            weights = np.exp(-(distances**2)/kernel_width)\n",
    "            return weights\n",
    "knn = KNeighborsRegressor(n_neighbors=1,weights=gaussian_kernel)\n",
    "knn.fit(np.transpose(np.array([df.LatDegree, df.LongDegree])), df.SurfTemp)\n",
    "predicted_tsurf = knn.predict(np.transpose(np.array([sampled_df2.lat, sampled_df2.lon])))"
   ]
  },
  {
   "cell_type": "code",
   "execution_count": 9,
   "id": "57598610-2299-440e-8bf2-05571126a5d1",
   "metadata": {
    "tags": []
   },
   "outputs": [],
   "source": [
    "# Forming X and Y\n",
    "new_X = np.transpose(np.array([sampled_df2.lat,\n",
    "                                sampled_df2.lon,\n",
    "                                sampled_df2.depth,\n",
    "                                predicted_tsurf]))\n",
    "new_X = np.concatenate((new_X, predicted_mults),axis=1)\n",
    "new_Y = sampled_df2.corrtemp.values"
   ]
  },
  {
   "cell_type": "markdown",
   "id": "820bb9de-82be-4a20-8f4e-6b6157ecf8c3",
   "metadata": {},
   "source": [
    "# Random Forest for New Well Data"
   ]
  },
  {
   "cell_type": "code",
   "execution_count": 13,
   "id": "ad17f630-f8ec-486b-8907-f688b4b6c28f",
   "metadata": {
    "tags": []
   },
   "outputs": [],
   "source": [
    "import sklearn.metrics as m\n",
    "from sklearn.ensemble import RandomForestRegressor"
   ]
  },
  {
   "cell_type": "code",
   "execution_count": 14,
   "id": "e460fac9-f2f3-4632-94b4-ffd80565ad71",
   "metadata": {
    "tags": []
   },
   "outputs": [],
   "source": [
    "def Rftest():\n",
    "    model = RandomForestRegressor(max_depth=10, n_estimators=50)\n",
    "    model.fit(X, Y)\n",
    "    y_pred = model.predict(new_X)\n",
    "    y_test = new_Y\n",
    "    std = (np.nanstd(abs(y_test-y_pred)))\n",
    "    return m.mean_absolute_error(y_test, y_pred), m.mean_squared_error(y_test, y_pred), std"
   ]
  },
  {
   "cell_type": "code",
   "execution_count": 15,
   "id": "94663ed7-a4c0-4c0b-9d1d-46454905c39f",
   "metadata": {
    "tags": []
   },
   "outputs": [
    {
     "name": "stdout",
     "output_type": "stream",
     "text": [
      "7.774905613788625 97.49573865939425 6.086590289815176\n"
     ]
    }
   ],
   "source": [
    "mae, mse, std = Rftest()\n",
    "print(mae, mse, std) "
   ]
  },
  {
   "cell_type": "markdown",
   "id": "6b430775-7e70-4fe4-81a2-1fc2f07dad29",
   "metadata": {},
   "source": [
    "# LightGBM for New Well Data"
   ]
  },
  {
   "cell_type": "code",
   "execution_count": 16,
   "id": "3e7012ce-d70a-4f38-b21c-da61e39bf44f",
   "metadata": {
    "tags": []
   },
   "outputs": [],
   "source": [
    "import lightgbm as lgb"
   ]
  },
  {
   "cell_type": "code",
   "execution_count": 17,
   "id": "1c92b851-af98-41a3-acf4-b06a4d021b9f",
   "metadata": {
    "tags": []
   },
   "outputs": [],
   "source": [
    "def LightGBM():\n",
    "    model = lgb.LGBMRegressor(learning_rate=0.1, num_leaves=30, n_estimators=200,\n",
    "                              max_depth=15, min_child_samples=5)\n",
    "    model.fit(X, Y)\n",
    "    y_pred = model.predict(new_X)\n",
    "    y_test = new_Y\n",
    "    std = (np.nanstd(abs(y_test-y_pred)))\n",
    "    return m.mean_absolute_error(y_test, y_pred), m.mean_squared_error(y_test, y_pred), std"
   ]
  },
  {
   "cell_type": "code",
   "execution_count": 18,
   "id": "8c3cc1e5-f58a-4080-91c6-5f9ed5018d24",
   "metadata": {
    "tags": []
   },
   "outputs": [
    {
     "name": "stdout",
     "output_type": "stream",
     "text": [
      "[LightGBM] [Info] Auto-choosing col-wise multi-threading, the overhead of testing was 0.013612 seconds.\n",
      "You can set `force_col_wise=true` to remove the overhead.\n",
      "[LightGBM] [Info] Total Bins 13062\n",
      "[LightGBM] [Info] Number of data points in the train set: 19593, number of used features: 53\n",
      "[LightGBM] [Info] Start training from score 37.071158\n",
      "7.481264314310741 92.42281300032357 6.037673166025483\n"
     ]
    }
   ],
   "source": [
    "mae, mse, std = LightGBM()\n",
    "print(mae, mse, std) "
   ]
  },
  {
   "cell_type": "markdown",
   "id": "54cc318e-30b2-4db7-a033-22b4894ee1a6",
   "metadata": {},
   "source": [
    "# DNN for New Well Data"
   ]
  },
  {
   "cell_type": "code",
   "execution_count": 44,
   "id": "afcc8d9b-feaa-4ca4-b354-ac8e50f2a1f1",
   "metadata": {
    "tags": []
   },
   "outputs": [],
   "source": [
    "from keras import models\n",
    "from keras.layers import Dense, Dropout\n",
    "from keras.models import Sequential\n",
    "from keras.utils import to_categorical\n",
    "from keras.utils.vis_utils import model_to_dot\n",
    "from IPython.display import SVG\n",
    "from sklearn.model_selection import train_test_split\n",
    "import livelossplot\n",
    "import matplotlib.pyplot as plt"
   ]
  },
  {
   "cell_type": "code",
   "execution_count": 45,
   "id": "997287cb-4111-4b6e-a3a8-1e02b7bd0f0f",
   "metadata": {
    "tags": []
   },
   "outputs": [],
   "source": [
    "def DNN():\n",
    "    # Defining our neural network model as a function\n",
    "\n",
    "    model = Sequential()\n",
    "    model.add(Dense(100, input_shape=(53,)))\n",
    "    model.add(Dropout(0.001))\n",
    "\n",
    "    model.add(Dense(100, activation='relu'))\n",
    "    model.add(Dropout(0.001))\n",
    "\n",
    "    model.add(Dense(100, activation='relu'))\n",
    "    model.add(Dropout(0.001))\n",
    "\n",
    "    model.add(Dense(100, activation='relu'))\n",
    "    model.add(Dropout(0.001))\n",
    "    \n",
    "    model.add(Dense(1))\n",
    "    \n",
    "    model.compile(optimizer='adam',\n",
    "                  loss='mean_squared_error',\n",
    "                  metrics=['mae'])\n",
    "\n",
    "    model.fit(X, Y, epochs=60, batch_size=8, verbose=0)\n",
    "\n",
    "    y_pred = model.predict(new_X)\n",
    "    y_test = new_Y\n",
    "    std = (np.nanstd(abs(y_test-y_pred)))\n",
    "    \n",
    "    \n",
    "    return m.mean_absolute_error(y_test, y_pred), m.mean_squared_error(y_test, y_pred), std"
   ]
  },
  {
   "cell_type": "code",
   "execution_count": 46,
   "id": "a0bc28a6-56ce-4586-8adc-9e7789b24080",
   "metadata": {
    "tags": []
   },
   "outputs": [
    {
     "name": "stdout",
     "output_type": "stream",
     "text": [
      "313/313 [==============================] - 0s 1ms/step\n",
      "7.693441971273353 93.0649108335136 15.282951374978241\n"
     ]
    }
   ],
   "source": [
    "mae, mse, std = DNN()\n",
    "print(mae, mse, std) "
   ]
  },
  {
   "cell_type": "code",
   "execution_count": null,
   "id": "508a7c5a-2757-45f5-a59f-189223e00c25",
   "metadata": {},
   "outputs": [],
   "source": []
  }
 ],
 "metadata": {
  "kernelspec": {
   "display_name": "Python 3 (ipykernel)",
   "language": "python",
   "name": "python3"
  },
  "language_info": {
   "codemirror_mode": {
    "name": "ipython",
    "version": 3
   },
   "file_extension": ".py",
   "mimetype": "text/x-python",
   "name": "python",
   "nbconvert_exporter": "python",
   "pygments_lexer": "ipython3",
   "version": "3.11.5"
  }
 },
 "nbformat": 4,
 "nbformat_minor": 5
}
